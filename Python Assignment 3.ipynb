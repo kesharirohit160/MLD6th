{
 "cells": [
  {
   "cell_type": "markdown",
   "metadata": {},
   "source": [
    "# Python Assignment 3"
   ]
  },
  {
   "cell_type": "markdown",
   "metadata": {},
   "source": [
    "#### 1.1 Write a Python Program to implement your own myreduce() function which works exactly like Python's built-in function reduce()"
   ]
  },
  {
   "cell_type": "code",
   "execution_count": 1,
   "metadata": {},
   "outputs": [
    {
     "name": "stdout",
     "output_type": "stream",
     "text": [
      "Addition :10\n",
      "Multiplication :24\n"
     ]
    }
   ],
   "source": [
    "# reduce function\n",
    "\n",
    "def reduce_funtion(func, seq):\n",
    "    \n",
    "    first = seq[0]\n",
    "    for i in seq[1:]:\n",
    "        first = func(first, i)\n",
    "    return first\n",
    "\n",
    "def sum(x,y):\n",
    "    return x + y\n",
    "\n",
    "def mul(x,y):\n",
    "    return x*y\n",
    "    \n",
    "print(\"Addition :{}\".format(reduce_funtion(sum, [1, 2, 3, 4])))\n",
    "\n",
    "print(\"Multiplication :{}\".format(reduce_funtion(mul, [1, 2, 3, 4])))\n"
   ]
  },
  {
   "cell_type": "markdown",
   "metadata": {},
   "source": [
    "#### 1.2 Write a Python program to implement your own myfilter() function which works exactly like Python's built-in function filter()"
   ]
  },
  {
   "cell_type": "code",
   "execution_count": 2,
   "metadata": {},
   "outputs": [
    {
     "name": "stdout",
     "output_type": "stream",
     "text": [
      "When filter function exists:\n",
      "\n",
      "Adult find\n",
      "18\n",
      "24\n",
      "32\n",
      "\n",
      "When filtered function does not exists:\n",
      "\n",
      "The filtered elements are:\n",
      "1\n",
      "a\n",
      "True\n",
      "0\n"
     ]
    }
   ],
   "source": [
    "def myFilter(myFunc, ages):\n",
    "    l = list()\n",
    "    for i in ages:\n",
    "        if myFunc:\n",
    "            if myFunc(i):\n",
    "                l.append(i)\n",
    "        else:\n",
    "            if i:\n",
    "                l.append(i)\n",
    "    return iter(l)\n",
    "\n",
    "# Exmaples\n",
    "\n",
    "# When filter function exists\n",
    "\n",
    "print(\"When filter function exists:\\n\")\n",
    "ages = [5, 12, 17, 18, 24, 32]\n",
    "\n",
    "def myFunc(x):\n",
    "  if x < 18:\n",
    "    return False\n",
    "  else:\n",
    "    return True\n",
    "\n",
    "adults = myFilter(myFunc, ages)\n",
    "\n",
    "print(\"Adult find\")\n",
    "for adult in adults:\n",
    "    print(adult)\n",
    "    \n",
    "\n",
    "# When filtered function does not exists\n",
    "\n",
    "print(\"\\nWhen filtered function does not exists:\\n\")\n",
    "randomList = [1, 'a', 0, False, True, '0']\n",
    "\n",
    "filteredList = myFilter(None, randomList)\n",
    "\n",
    "print('The filtered elements are:')\n",
    "for element in filteredList:\n",
    "    print(element)\n"
   ]
  },
  {
   "cell_type": "markdown",
   "metadata": {},
   "source": [
    "#### 2. Implement List comprehensions to produce the following lists.\n",
    "\n",
    "- Write List comprehensions to produce the following Lists\n",
    "\n",
    "###### ['x', 'xx', 'xxx', 'xxxx', 'y', 'yy', 'yyy', 'yyyy', 'z', 'zz', 'zzz', 'zzzz']\n",
    "###### ['x', 'y', 'z', 'xx', 'yy', 'zz', 'xxx', 'yyy', 'zzz', 'xxxx', 'yyyy', 'zzzz']\n",
    "###### [[2], [3], [4], [3], [4], [5], [4], [5], [6]] [[2, 3, 4, 5], [3, 4, 5, 6],[4, 5, 6, 7], [5, 6, 7, 8]]\n",
    "###### [(1, 1), (2, 1), (3, 1), (1, 2), (2, 2), (3, 2), (1, 3), (2, 3), (3,3)]"
   ]
  },
  {
   "cell_type": "code",
   "execution_count": 3,
   "metadata": {},
   "outputs": [
    {
     "name": "stdout",
     "output_type": "stream",
     "text": [
      "['x', 'xx', 'xxx', 'y', 'yy', 'yyy', 'z', 'zz', 'zzz']\n",
      "['x', 'y', 'z', 'xx', 'yy', 'zz', 'xxx', 'yyy', 'zzz']\n",
      "[[2], [3], [4], [3], [4], [5], [4], [5], [6]][[2, 3, 4, 5], [3, 4, 5, 6], [4, 5, 6, 7], [5, 6, 7, 8]]\n",
      "[(1, 1), (2, 1), (3, 1), (1, 2), (2, 2), (3, 2), (1, 3), (2, 3), (3, 3)]\n"
     ]
    }
   ],
   "source": [
    "#########\n",
    "# Compress above for loop into a single list comprehension using technique [i <Upper for condition> <lower for condition>]\n",
    "list1 = ['x','y','z']\n",
    "result1 = [ item*num for item in list1 for num in range(1,4)  ]\n",
    "print(str(result1))\n",
    "\n",
    "#########\n",
    "# Compress above for loop into a single list comprehension using technique [i <Upper for condition> <lower for condition>]\n",
    "list2 = ['x','y','z']\n",
    "result2 = [ item*num for num in range(1,4) for item in list2  ]\n",
    "print(str(result2))\n",
    "\n",
    "\n",
    "list3 = [2,3,4]\n",
    "result3 = [ [item+num] for item in list3 for num in range(0,3)]\n",
    "list4 = [2,3,4,5]\n",
    "result4 = [ [item+num for item in list4] for num in range(0,4)  ]\n",
    "print(str(result3) + str(result4))\n",
    "\n",
    "#########\n",
    "# input_list = [2,3,4,5]\n",
    "# result = [ [item+num for item in input_list] for num in range(0,4)  ]\n",
    "# print(str(result))\n",
    "\n",
    "#########\n",
    "list5=[1,2,3]\n",
    "result5 = [ (b,a) for a in list5 for b in list5]\n",
    "print(str(result5))"
   ]
  },
  {
   "cell_type": "markdown",
   "metadata": {},
   "source": [
    "# Thank you - Rohit Keshari"
   ]
  }
 ],
 "metadata": {
  "kernelspec": {
   "display_name": "Python 3",
   "language": "python",
   "name": "python3"
  },
  "language_info": {
   "codemirror_mode": {
    "name": "ipython",
    "version": 3
   },
   "file_extension": ".py",
   "mimetype": "text/x-python",
   "name": "python",
   "nbconvert_exporter": "python",
   "pygments_lexer": "ipython3",
   "version": "3.7.4"
  }
 },
 "nbformat": 4,
 "nbformat_minor": 2
}
